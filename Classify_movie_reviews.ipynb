{
 "cells": [
  {
   "cell_type": "code",
   "execution_count": 1,
   "metadata": {},
   "outputs": [
    {
     "name": "stdout",
     "output_type": "stream",
     "text": [
      "1.9.0\n"
     ]
    }
   ],
   "source": [
    "import tensorflow as tf\n",
    "from tensorflow import keras\n",
    "\n",
    "import numpy as np\n",
    "\n",
    "print(tf.__version__)"
   ]
  },
  {
   "cell_type": "code",
   "execution_count": 2,
   "metadata": {},
   "outputs": [],
   "source": [
    "imdb = keras.datasets.imdb\n",
    "\n",
    "(train_data, train_labels), (test_data, test_labels) = imdb.load_data(num_words=10000)"
   ]
  },
  {
   "cell_type": "code",
   "execution_count": 3,
   "metadata": {},
   "outputs": [
    {
     "name": "stdout",
     "output_type": "stream",
     "text": [
      "[1, 14, 22, 16, 43, 530, 973, 1622, 1385, 65, 458, 4468, 66, 3941, 4, 173, 36, 256, 5, 25, 100, 43, 838, 112, 50, 670, 2, 9, 35, 480, 284, 5, 150, 4, 172, 112, 167, 2, 336, 385, 39, 4, 172, 4536, 1111, 17, 546, 38, 13, 447, 4, 192, 50, 16, 6, 147, 2025, 19, 14, 22, 4, 1920, 4613, 469, 4, 22, 71, 87, 12, 16, 43, 530, 38, 76, 15, 13, 1247, 4, 22, 17, 515, 17, 12, 16, 626, 18, 2, 5, 62, 386, 12, 8, 316, 8, 106, 5, 4, 2223, 5244, 16, 480, 66, 3785, 33, 4, 130, 12, 16, 38, 619, 5, 25, 124, 51, 36, 135, 48, 25, 1415, 33, 6, 22, 12, 215, 28, 77, 52, 5, 14, 407, 16, 82, 2, 8, 4, 107, 117, 5952, 15, 256, 4, 2, 7, 3766, 5, 723, 36, 71, 43, 530, 476, 26, 400, 317, 46, 7, 4, 2, 1029, 13, 104, 88, 4, 381, 15, 297, 98, 32, 2071, 56, 26, 141, 6, 194, 7486, 18, 4, 226, 22, 21, 134, 476, 26, 480, 5, 144, 30, 5535, 18, 51, 36, 28, 224, 92, 25, 104, 4, 226, 65, 16, 38, 1334, 88, 12, 16, 283, 5, 16, 4472, 113, 103, 32, 15, 16, 5345, 19, 178, 32]\n"
     ]
    }
   ],
   "source": [
    "print(train_data[0])"
   ]
  },
  {
   "cell_type": "code",
   "execution_count": 4,
   "metadata": {},
   "outputs": [
    {
     "name": "stdout",
     "output_type": "stream",
     "text": [
      "Training entries: 25000, labels: 25000\n"
     ]
    }
   ],
   "source": [
    "print(\"Training entries: {}, labels: {}\".format(len(train_data), len(train_labels)))"
   ]
  },
  {
   "cell_type": "code",
   "execution_count": 5,
   "metadata": {},
   "outputs": [
    {
     "data": {
      "text/plain": [
       "(218, 189)"
      ]
     },
     "execution_count": 5,
     "metadata": {},
     "output_type": "execute_result"
    }
   ],
   "source": [
    "len(train_data[0]), len(train_data[1]) # different lengths"
   ]
  },
  {
   "cell_type": "code",
   "execution_count": 6,
   "metadata": {},
   "outputs": [
    {
     "name": "stdout",
     "output_type": "stream",
     "text": [
      "34229\n"
     ]
    }
   ],
   "source": [
    "# A dictionary mapping words to an integer index\n",
    "word_index = imdb.get_word_index()\n",
    "print(word_index[\"deposited\"])"
   ]
  },
  {
   "cell_type": "code",
   "execution_count": 7,
   "metadata": {},
   "outputs": [],
   "source": [
    "# The first indices are reserved\n",
    "word_index = {k:(v+3) for k,v in word_index.items()} \n",
    "word_index[\"<PAD>\"] = 0\n",
    "word_index[\"<START>\"] = 1\n",
    "word_index[\"<UNK>\"] = 2  # unknown\n",
    "word_index[\"<UNUSED>\"] = 3\n",
    "\n",
    "reverse_word_index = dict([(value, key) for (key, value) in word_index.items()])\n",
    "\n",
    "def decode_review(text):\n",
    "    return ' '.join([reverse_word_index.get(i, '?') for i in text])"
   ]
  },
  {
   "cell_type": "code",
   "execution_count": 8,
   "metadata": {},
   "outputs": [
    {
     "name": "stdout",
     "output_type": "stream",
     "text": [
      "34232\n"
     ]
    }
   ],
   "source": [
    "print(word_index[\"deposited\"])"
   ]
  },
  {
   "cell_type": "code",
   "execution_count": 10,
   "metadata": {},
   "outputs": [],
   "source": [
    "#print(reverse_word_index)"
   ]
  },
  {
   "cell_type": "code",
   "execution_count": 40,
   "metadata": {},
   "outputs": [
    {
     "data": {
      "text/plain": [
       "\"<START> big hair big boobs bad music and a giant safety pin these are the words to best describe this terrible movie i love cheesy horror movies and i've seen hundreds but this had got to be on of the worst ever made the plot is paper thin and ridiculous the acting is an abomination the script is completely laughable the best is the end showdown with the cop and how he worked out who the killer is it's just so damn terribly written the clothes are sickening and funny in equal <UNK> the hair is big lots of boobs <UNK> men wear those cut <UNK> shirts that show off their <UNK> sickening that men actually wore them and the music is just <UNK> trash that plays over and over again in almost every scene there is trashy music boobs and <UNK> taking away bodies and the gym still doesn't close for <UNK> all joking aside this is a truly bad film whose only charm is to look back on the disaster that was the 80's and have a good old laugh at how bad everything was back then <PAD> <PAD> <PAD> <PAD> <PAD> <PAD> <PAD> <PAD> <PAD> <PAD> <PAD> <PAD> <PAD> <PAD> <PAD> <PAD> <PAD> <PAD> <PAD> <PAD> <PAD> <PAD> <PAD> <PAD> <PAD> <PAD> <PAD> <PAD> <PAD> <PAD> <PAD> <PAD> <PAD> <PAD> <PAD> <PAD> <PAD> <PAD> <PAD> <PAD> <PAD> <PAD> <PAD> <PAD> <PAD> <PAD> <PAD> <PAD> <PAD> <PAD> <PAD> <PAD> <PAD> <PAD> <PAD> <PAD> <PAD> <PAD> <PAD> <PAD> <PAD> <PAD> <PAD> <PAD> <PAD> <PAD> <PAD>\""
      ]
     },
     "execution_count": 40,
     "metadata": {},
     "output_type": "execute_result"
    }
   ],
   "source": [
    "decode_review(train_data[1])"
   ]
  },
  {
   "cell_type": "code",
   "execution_count": 12,
   "metadata": {},
   "outputs": [],
   "source": [
    "train_data = keras.preprocessing.sequence.pad_sequences(train_data,\n",
    "                                                        value=word_index[\"<PAD>\"],\n",
    "                                                        padding='post',\n",
    "                                                        maxlen=256)\n",
    "\n",
    "test_data = keras.preprocessing.sequence.pad_sequences(test_data,\n",
    "                                                       value=word_index[\"<PAD>\"],\n",
    "                                                       padding='post',\n",
    "                                                       maxlen=256)"
   ]
  },
  {
   "cell_type": "code",
   "execution_count": 13,
   "metadata": {},
   "outputs": [
    {
     "data": {
      "text/plain": [
       "(256, 256)"
      ]
     },
     "execution_count": 13,
     "metadata": {},
     "output_type": "execute_result"
    }
   ],
   "source": [
    "len(train_data[0]), len(train_data[1])"
   ]
  },
  {
   "cell_type": "code",
   "execution_count": 14,
   "metadata": {},
   "outputs": [
    {
     "name": "stdout",
     "output_type": "stream",
     "text": [
      "[   1   14   22   16   43  530  973 1622 1385   65  458 4468   66 3941\n",
      "    4  173   36  256    5   25  100   43  838  112   50  670    2    9\n",
      "   35  480  284    5  150    4  172  112  167    2  336  385   39    4\n",
      "  172 4536 1111   17  546   38   13  447    4  192   50   16    6  147\n",
      " 2025   19   14   22    4 1920 4613  469    4   22   71   87   12   16\n",
      "   43  530   38   76   15   13 1247    4   22   17  515   17   12   16\n",
      "  626   18    2    5   62  386   12    8  316    8  106    5    4 2223\n",
      " 5244   16  480   66 3785   33    4  130   12   16   38  619    5   25\n",
      "  124   51   36  135   48   25 1415   33    6   22   12  215   28   77\n",
      "   52    5   14  407   16   82    2    8    4  107  117 5952   15  256\n",
      "    4    2    7 3766    5  723   36   71   43  530  476   26  400  317\n",
      "   46    7    4    2 1029   13  104   88    4  381   15  297   98   32\n",
      " 2071   56   26  141    6  194 7486   18    4  226   22   21  134  476\n",
      "   26  480    5  144   30 5535   18   51   36   28  224   92   25  104\n",
      "    4  226   65   16   38 1334   88   12   16  283    5   16 4472  113\n",
      "  103   32   15   16 5345   19  178   32    0    0    0    0    0    0\n",
      "    0    0    0    0    0    0    0    0    0    0    0    0    0    0\n",
      "    0    0    0    0    0    0    0    0    0    0    0    0    0    0\n",
      "    0    0    0    0]\n"
     ]
    }
   ],
   "source": [
    "print(train_data[0])"
   ]
  },
  {
   "cell_type": "markdown",
   "metadata": {},
   "source": [
    "It is an improvement over more the traditional bag-of-word model encoding schemes where large sparse vectors were used to represent each word or to score each word within a vector to represent an entire vocabulary. These representations were sparse because the vocabularies were vast and a given word or document would be represented by a large vector comprised mostly of zero values.\n",
    "\n",
    "Instead, in an embedding, words are represented by dense vectors where a vector represents the projection of the word into a continuous vector space.\n",
    "\n",
    "The position of a word within the vector space is learned from text and is based on the words that surround the word when it is used."
   ]
  },
  {
   "cell_type": "markdown",
   "metadata": {},
   "source": [
    "output_dim: This is the size of the vector space in which words will be embedded. It defines the size of the output vectors from this layer for each word. For example, it could be 32 or 100 or even larger. Test different values for your problem."
   ]
  },
  {
   "cell_type": "code",
   "execution_count": 15,
   "metadata": {},
   "outputs": [
    {
     "name": "stdout",
     "output_type": "stream",
     "text": [
      "_________________________________________________________________\n",
      "Layer (type)                 Output Shape              Param #   \n",
      "=================================================================\n",
      "embedding (Embedding)        (None, None, 16)          160000    \n",
      "_________________________________________________________________\n",
      "global_average_pooling1d (Gl (None, 16)                0         \n",
      "_________________________________________________________________\n",
      "dense (Dense)                (None, 16)                272       \n",
      "_________________________________________________________________\n",
      "dense_1 (Dense)              (None, 1)                 17        \n",
      "=================================================================\n",
      "Total params: 160,289\n",
      "Trainable params: 160,289\n",
      "Non-trainable params: 0\n",
      "_________________________________________________________________\n"
     ]
    }
   ],
   "source": [
    "# input shape is the vocabulary count used for the movie reviews (10,000 words)\n",
    "vocab_size = 10000\n",
    "\n",
    "model = keras.Sequential()\n",
    "model.add(keras.layers.Embedding(vocab_size, 16))\n",
    "model.add(keras.layers.GlobalAveragePooling1D())\n",
    "model.add(keras.layers.Dense(16, activation=tf.nn.relu))\n",
    "model.add(keras.layers.Dense(1, activation=tf.nn.sigmoid))\n",
    "\n",
    "model.summary()"
   ]
  },
  {
   "cell_type": "code",
   "execution_count": 16,
   "metadata": {},
   "outputs": [],
   "source": [
    "model.compile(optimizer=tf.train.AdamOptimizer(),\n",
    "              loss='binary_crossentropy',\n",
    "              metrics=['accuracy'])"
   ]
  },
  {
   "cell_type": "code",
   "execution_count": 17,
   "metadata": {},
   "outputs": [],
   "source": [
    "#Validation set\n",
    "x_val = train_data[:10000]\n",
    "partial_x_train = train_data[10000:]\n",
    "\n",
    "y_val = train_labels[:10000]\n",
    "partial_y_train = train_labels[10000:]"
   ]
  },
  {
   "cell_type": "code",
   "execution_count": 18,
   "metadata": {},
   "outputs": [
    {
     "name": "stdout",
     "output_type": "stream",
     "text": [
      "Train on 15000 samples, validate on 10000 samples\n",
      "Epoch 1/40\n",
      "15000/15000 [==============================] - 2s 101us/step - loss: 0.6924 - acc: 0.5209 - val_loss: 0.6917 - val_acc: 0.5272\n",
      "Epoch 2/40\n",
      "15000/15000 [==============================] - 1s 54us/step - loss: 0.6900 - acc: 0.5635 - val_loss: 0.6891 - val_acc: 0.5876\n",
      "Epoch 3/40\n",
      "15000/15000 [==============================] - 1s 66us/step - loss: 0.6870 - acc: 0.5993 - val_loss: 0.6863 - val_acc: 0.6563\n",
      "Epoch 4/40\n",
      "15000/15000 [==============================] - 1s 70us/step - loss: 0.6831 - acc: 0.6477 - val_loss: 0.6836 - val_acc: 0.5267\n",
      "Epoch 5/40\n",
      "15000/15000 [==============================] - 1s 61us/step - loss: 0.6777 - acc: 0.6827 - val_loss: 0.6762 - val_acc: 0.7003\n",
      "Epoch 6/40\n",
      "15000/15000 [==============================] - 1s 51us/step - loss: 0.6697 - acc: 0.7273 - val_loss: 0.6674 - val_acc: 0.7113\n",
      "Epoch 7/40\n",
      "15000/15000 [==============================] - 1s 52us/step - loss: 0.6580 - acc: 0.7495 - val_loss: 0.6552 - val_acc: 0.7381\n",
      "Epoch 8/40\n",
      "15000/15000 [==============================] - 1s 53us/step - loss: 0.6420 - acc: 0.7639 - val_loss: 0.6389 - val_acc: 0.7473\n",
      "Epoch 9/40\n",
      "15000/15000 [==============================] - 1s 50us/step - loss: 0.6218 - acc: 0.7691 - val_loss: 0.6178 - val_acc: 0.7588\n",
      "Epoch 10/40\n",
      "15000/15000 [==============================] - 1s 51us/step - loss: 0.5956 - acc: 0.7880 - val_loss: 0.5917 - val_acc: 0.7708\n",
      "Epoch 11/40\n",
      "15000/15000 [==============================] - 1s 50us/step - loss: 0.5654 - acc: 0.7890 - val_loss: 0.5670 - val_acc: 0.7693\n",
      "Epoch 12/40\n",
      "15000/15000 [==============================] - 1s 49us/step - loss: 0.5350 - acc: 0.8039 - val_loss: 0.5358 - val_acc: 0.7947\n",
      "Epoch 13/40\n",
      "15000/15000 [==============================] - 1s 52us/step - loss: 0.5024 - acc: 0.8219 - val_loss: 0.5087 - val_acc: 0.8055\n",
      "Epoch 14/40\n",
      "15000/15000 [==============================] - 1s 53us/step - loss: 0.4719 - acc: 0.8333 - val_loss: 0.4827 - val_acc: 0.8147\n",
      "Epoch 15/40\n",
      "15000/15000 [==============================] - 1s 51us/step - loss: 0.4430 - acc: 0.8443 - val_loss: 0.4575 - val_acc: 0.8214\n",
      "Epoch 16/40\n",
      "15000/15000 [==============================] - 1s 55us/step - loss: 0.4166 - acc: 0.8543 - val_loss: 0.4346 - val_acc: 0.8330\n",
      "Epoch 17/40\n",
      "15000/15000 [==============================] - 1s 74us/step - loss: 0.3915 - acc: 0.8654 - val_loss: 0.4147 - val_acc: 0.8397\n",
      "Epoch 18/40\n",
      "15000/15000 [==============================] - 1s 62us/step - loss: 0.3698 - acc: 0.8719 - val_loss: 0.3973 - val_acc: 0.8471\n",
      "Epoch 19/40\n",
      "15000/15000 [==============================] - 1s 52us/step - loss: 0.3507 - acc: 0.8791 - val_loss: 0.3824 - val_acc: 0.8522\n",
      "Epoch 20/40\n",
      "15000/15000 [==============================] - 1s 55us/step - loss: 0.3336 - acc: 0.8842 - val_loss: 0.3697 - val_acc: 0.8577\n",
      "Epoch 21/40\n",
      "15000/15000 [==============================] - 1s 67us/step - loss: 0.3186 - acc: 0.8886 - val_loss: 0.3587 - val_acc: 0.8620\n",
      "Epoch 22/40\n",
      "15000/15000 [==============================] - 1s 62us/step - loss: 0.3050 - acc: 0.8929 - val_loss: 0.3493 - val_acc: 0.8650\n",
      "Epoch 23/40\n",
      "15000/15000 [==============================] - 1s 59us/step - loss: 0.2933 - acc: 0.8967 - val_loss: 0.3416 - val_acc: 0.8660\n",
      "Epoch 24/40\n",
      "15000/15000 [==============================] - 1s 57us/step - loss: 0.2819 - acc: 0.8994 - val_loss: 0.3342 - val_acc: 0.8696\n",
      "Epoch 25/40\n",
      "15000/15000 [==============================] - 1s 57us/step - loss: 0.2718 - acc: 0.9036 - val_loss: 0.3280 - val_acc: 0.8715\n",
      "Epoch 26/40\n",
      "15000/15000 [==============================] - 1s 57us/step - loss: 0.2625 - acc: 0.9059 - val_loss: 0.3233 - val_acc: 0.8740\n",
      "Epoch 27/40\n",
      "15000/15000 [==============================] - 1s 60us/step - loss: 0.2543 - acc: 0.9091 - val_loss: 0.3181 - val_acc: 0.8739\n",
      "Epoch 28/40\n",
      "15000/15000 [==============================] - 1s 68us/step - loss: 0.2458 - acc: 0.9122 - val_loss: 0.3136 - val_acc: 0.8766\n",
      "Epoch 29/40\n",
      "15000/15000 [==============================] - 1s 63us/step - loss: 0.2385 - acc: 0.9146 - val_loss: 0.3108 - val_acc: 0.8763\n",
      "Epoch 30/40\n",
      "15000/15000 [==============================] - 1s 64us/step - loss: 0.2325 - acc: 0.9176 - val_loss: 0.3069 - val_acc: 0.8786\n",
      "Epoch 31/40\n",
      "15000/15000 [==============================] - 1s 57us/step - loss: 0.2248 - acc: 0.9192 - val_loss: 0.3043 - val_acc: 0.8794\n",
      "Epoch 32/40\n",
      "15000/15000 [==============================] - 1s 56us/step - loss: 0.2191 - acc: 0.9222 - val_loss: 0.3018 - val_acc: 0.8795\n",
      "Epoch 33/40\n",
      "15000/15000 [==============================] - 1s 65us/step - loss: 0.2124 - acc: 0.9245 - val_loss: 0.2996 - val_acc: 0.8808\n",
      "Epoch 34/40\n",
      "15000/15000 [==============================] - 1s 56us/step - loss: 0.2068 - acc: 0.9269 - val_loss: 0.2984 - val_acc: 0.8811\n",
      "Epoch 35/40\n",
      "15000/15000 [==============================] - 1s 52us/step - loss: 0.2018 - acc: 0.9273 - val_loss: 0.2960 - val_acc: 0.8817\n",
      "Epoch 36/40\n",
      "15000/15000 [==============================] - 1s 51us/step - loss: 0.1961 - acc: 0.9311 - val_loss: 0.2947 - val_acc: 0.8808\n",
      "Epoch 37/40\n",
      "15000/15000 [==============================] - 1s 52us/step - loss: 0.1912 - acc: 0.9325 - val_loss: 0.2934 - val_acc: 0.8827\n",
      "Epoch 38/40\n",
      "15000/15000 [==============================] - 1s 52us/step - loss: 0.1865 - acc: 0.9344 - val_loss: 0.2930 - val_acc: 0.8829\n",
      "Epoch 39/40\n",
      "15000/15000 [==============================] - 1s 54us/step - loss: 0.1815 - acc: 0.9364 - val_loss: 0.2915 - val_acc: 0.8830\n",
      "Epoch 40/40\n",
      "15000/15000 [==============================] - 1s 57us/step - loss: 0.1770 - acc: 0.9382 - val_loss: 0.2908 - val_acc: 0.8840\n"
     ]
    }
   ],
   "source": [
    "#While training, monitor the model's loss and accuracy on the 10,000 samples from the validation set:\n",
    "history = model.fit(partial_x_train,\n",
    "                    partial_y_train,\n",
    "                    epochs=40,\n",
    "                    batch_size=512,\n",
    "                    validation_data=(x_val, y_val),\n",
    "                    verbose=1)"
   ]
  },
  {
   "cell_type": "code",
   "execution_count": 23,
   "metadata": {},
   "outputs": [
    {
     "name": "stdout",
     "output_type": "stream",
     "text": [
      "25000/25000 [==============================] - 1s 20us/step\n",
      "[0.3043662668991089, 0.87532]\n"
     ]
    }
   ],
   "source": [
    "results = model.evaluate(test_data, test_labels)\n",
    "print(results)"
   ]
  },
  {
   "cell_type": "code",
   "execution_count": 24,
   "metadata": {},
   "outputs": [
    {
     "data": {
      "text/plain": [
       "dict_keys(['val_loss', 'val_acc', 'acc', 'loss'])"
      ]
     },
     "execution_count": 24,
     "metadata": {},
     "output_type": "execute_result"
    }
   ],
   "source": [
    "history_dict = history.history\n",
    "history_dict.keys()"
   ]
  },
  {
   "cell_type": "code",
   "execution_count": 26,
   "metadata": {},
   "outputs": [
    {
     "data": {
      "image/png": "[encoded data removed]",
      "text/plain": [
       "<Figure size 432x288 with 1 Axes>"
      ]
     },
     "metadata": {},
     "output_type": "display_data"
    }
   ],
   "source": [
    "import matplotlib.pyplot as plt\n",
    "\n",
    "acc = history.history['acc']\n",
    "val_acc = history.history['val_acc']\n",
    "loss = history.history['loss']\n",
    "val_loss = history.history['val_loss']\n",
    "\n",
    "epochs = range(1, len(acc) + 1)\n",
    "\n",
    "# \"bo\" is for \"blue dot\"\n",
    "plt.plot(epochs, loss, 'bo', label='Training loss')\n",
    "# b is for \"solid blue line\"\n",
    "plt.plot(epochs, val_loss, 'b', label='Validation loss')\n",
    "plt.title('Training and validation loss')\n",
    "plt.xlabel('Epochs')\n",
    "plt.ylabel('Loss')\n",
    "plt.legend()\n",
    "\n",
    "plt.show()"
   ]
  },
  {
   "cell_type": "code",
   "execution_count": 28,
   "metadata": {},
   "outputs": [],
   "source": [
    "#check review wheather it is negative or positive"
   ]
  },
  {
   "cell_type": "code",
   "execution_count": 35,
   "metadata": {},
   "outputs": [
    {
     "name": "stdout",
     "output_type": "stream",
     "text": [
      "[   6  176    7 5063   88   12 2679   23 1310    5  109  943    4  114\n",
      "    9   55  606    5  111    7    4  139  193  273   23    4  172  270\n",
      "   11 7216    2    4 8463 2801  109 1603   21    4   22 3861    8    6\n",
      " 1193 1330   10   10    4  105  987   35  841    2   19  861 1074    5\n",
      " 1987    2   45   55  221   15  670 5304  526   14 1069    4  405    5\n",
      " 2438    7   27   85  108  131    4 5045 5304 3884  405    9 3523  133\n",
      "    5   50   13  104   51   66  166   14   22  157    9    4  530  239\n",
      "   34 8463 2801   45  407   31    7   41 3778  105   21   59  299   12\n",
      "   38  950    5 4521   15   45  629  488 2733  127    6   52  292   17\n",
      "    4 6936  185  132 1988 5304 1799  488 2693   47    6  392  173    4\n",
      "    2 4378  270 2352    4 1500    7    4   65   55   73   11  346   14\n",
      "   20    9    6  976 2078    7 5293  861    2    5 4182   30 3127    2\n",
      "   56    4  841    5  990  692    8    4 1669  398  229   10   10   13\n",
      " 2822  670 5304   14    9   31    7   27  111  108   15 2033   19 7836\n",
      " 1429  875  551   14   22    9 1193   21   45 4829    5   45  252    8\n",
      "    2    6  565  921 3639   39    4  529   48   25  181    8   67   35\n",
      " 1732   22   49  238   60  135 1162   14    9  290    4   58   10   10\n",
      "  472   45   55  878    8  169   11  374 5687   25  203   28    8  818\n",
      "   12  125    4 3077]\n"
     ]
    }
   ],
   "source": [
    "text = test_data[1]\n",
    "print(text)"
   ]
  },
  {
   "cell_type": "code",
   "execution_count": 36,
   "metadata": {},
   "outputs": [],
   "source": [
    "text = (np.expand_dims(text,0))"
   ]
  },
  {
   "cell_type": "code",
   "execution_count": 37,
   "metadata": {},
   "outputs": [
    {
     "name": "stdout",
     "output_type": "stream",
     "text": [
      "[[0.9988733]]\n"
     ]
    }
   ],
   "source": [
    "predictions = model.predict(text)\n",
    "print(predictions)"
   ]
  },
  {
   "cell_type": "code",
   "execution_count": 39,
   "metadata": {},
   "outputs": [
    {
     "data": {
      "text/plain": [
       "1"
      ]
     },
     "execution_count": 39,
     "metadata": {},
     "output_type": "execute_result"
    }
   ],
   "source": [
    "test_labels[1]"
   ]
  }
 ],
 "metadata": {
  "kernelspec": {
   "display_name": "Python 3",
   "language": "python",
   "name": "python3"
  },
  "language_info": {
   "codemirror_mode": {
    "name": "ipython",
    "version": 3
   },
   "file_extension": ".py",
   "mimetype": "text/x-python",
   "name": "python",
   "nbconvert_exporter": "python",
   "pygments_lexer": "ipython3",
   "version": "3.5.5"
  }
 },
 "nbformat": 4,
 "nbformat_minor": 2
}
